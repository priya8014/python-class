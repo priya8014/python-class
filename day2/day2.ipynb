{
 "cells": [
  {
   "cell_type": "code",
   "execution_count": 1,
   "id": "d865d268",
   "metadata": {},
   "outputs": [
    {
     "name": "stdout",
     "output_type": "stream",
     "text": [
      "['apple', 'orange', 'banana', 'cocnut']\n",
      "cocnut\n",
      "['apple', 'orange', 'banana']\n",
      "['apple', 'orange', 'banana', 'cocnut']\n"
     ]
    }
   ],
   "source": [
    "\n",
    "fruits = [\"apple\", \"orange\", \"banana\", \"cocnut\"]\n",
    "print(fruits)\n",
    "print(fruits[3])\n",
    "print(fruits[0:3])\n",
    "print(fruits[::1])"
   ]
  },
  {
   "cell_type": "code",
   "execution_count": 2,
   "id": "7b9807dc",
   "metadata": {},
   "outputs": [
    {
     "name": "stdout",
     "output_type": "stream",
     "text": [
      "4\n"
     ]
    }
   ],
   "source": [
    "print(len(fruits))"
   ]
  },
  {
   "cell_type": "code",
   "execution_count": 5,
   "id": "be8910f6",
   "metadata": {},
   "outputs": [
    {
     "name": "stdout",
     "output_type": "stream",
     "text": [
      "['apple', 'orange', 'banana', 'cocnut', 'apple', 'apple']\n"
     ]
    }
   ],
   "source": [
    "fruits.append(\"apple\")\n",
    "print(fruits)"
   ]
  },
  {
   "cell_type": "code",
   "execution_count": 6,
   "id": "0b63e8b2",
   "metadata": {},
   "outputs": [
    {
     "name": "stdout",
     "output_type": "stream",
     "text": [
      "['apple', 'banana', 'cocnut', 'apple', 'apple']\n",
      "['apple', 'pineapple', 'banana', 'cocnut', 'apple', 'apple']\n",
      "['apple', 'apple', 'apple', 'banana', 'cocnut', 'pineapple']\n",
      "['pineapple', 'cocnut', 'banana', 'apple', 'apple', 'apple']\n"
     ]
    }
   ],
   "source": [
    "fruits.pop(1)\n",
    "print(fruits)\n",
    "fruits.insert(1,\"pineapple\")\n",
    "print(fruits)\n",
    "fruits.sort()\n",
    "print(fruits)\n",
    "fruits.reverse()\n",
    "print(fruits)\n",
    "fruits.clear()"
   ]
  },
  {
   "cell_type": "code",
   "execution_count": null,
   "id": "7f627878",
   "metadata": {},
   "outputs": [
    {
     "name": "stdout",
     "output_type": "stream",
     "text": [
      "True\n",
      "True\n",
      "False\n",
      "True\n"
     ]
    }
   ],
   "source": [
    "list1=[1,2,3,[4,5]]\n",
    "print(1 in list1)\n",
    "print([4,5] in list1)\n",
    "# since there is no element 4, but a list [4,5] is inside the list1\n",
    "print(4 in list1) \n",
    "print( 4 in list1 [3])"
   ]
  },
  {
   "cell_type": "code",
   "execution_count": 12,
   "id": "81964631",
   "metadata": {},
   "outputs": [
    {
     "name": "stdout",
     "output_type": "stream",
     "text": [
      "[4, 5, [6, 7, 8], 9]\n",
      "[6, 7, 8]\n",
      "7\n"
     ]
    }
   ],
   "source": [
    "list=[1,2,3,[4,5,[6,7,8],9]]\n",
    "print(list[3])\n",
    "print(list[3][2])\n",
    "print(list[3][2][1])"
   ]
  },
  {
   "cell_type": "code",
   "execution_count": null,
   "id": "d6e4bb87",
   "metadata": {},
   "outputs": [
    {
     "name": "stdout",
     "output_type": "stream",
     "text": [
      "[1, 4, 9, 16, 25]\n"
     ]
    }
   ],
   "source": [
    "# list comperhensive list\n",
    "squares = [x**2 for x in range (1,6)]\n",
    "print(squares)"
   ]
  },
  {
   "cell_type": "code",
   "execution_count": 15,
   "id": "b596a2ef",
   "metadata": {},
   "outputs": [
    {
     "name": "stdout",
     "output_type": "stream",
     "text": [
      "['APPLE', 'BANANA', 'CHERRY']\n"
     ]
    }
   ],
   "source": [
    "words = ['apple', 'banana', 'cherry']\n",
    "uppercased =[word.upper() for word in words]\n",
    "print(uppercased)"
   ]
  },
  {
   "cell_type": "code",
   "execution_count": null,
   "id": "331082c5",
   "metadata": {},
   "outputs": [
    {
     "name": "stdout",
     "output_type": "stream",
     "text": [
      "['__and__', '__class__', '__class_getitem__', '__contains__', '__delattr__', '__dir__', '__doc__', '__eq__', '__format__', '__ge__', '__getattribute__', '__getstate__', '__gt__', '__hash__', '__iand__', '__init__', '__init_subclass__', '__ior__', '__isub__', '__iter__', '__ixor__', '__le__', '__len__', '__lt__', '__ne__', '__new__', '__or__', '__rand__', '__reduce__', '__reduce_ex__', '__repr__', '__ror__', '__rsub__', '__rxor__', '__setattr__', '__sizeof__', '__str__', '__sub__', '__subclasshook__', '__xor__', 'add', 'clear', 'copy', 'difference', 'difference_update', 'discard', 'intersection', 'intersection_update', 'isdisjoint', 'issubset', 'issuperset', 'pop', 'remove', 'symmetric_difference', 'symmetric_difference_update', 'union', 'update']\n",
      "{'apple', 'cherry', 'orange', 'banana', 'cocnut'}\n",
      "{'cherry', 'orange', 'banana', 'cocnut'}\n"
     ]
    },
    {
     "data": {
      "text/plain": [
       "'cherry'"
      ]
     },
     "execution_count": 25,
     "metadata": {},
     "output_type": "execute_result"
    }
   ],
   "source": [
    "#sets unordered\n",
    "fruits={\"apple\", \"banana\", \"orange\", \"cocnut\", \"cherry\", \"cherry\"}\n",
    "print(dir(fruits))\n",
    "print(fruits)\n",
    "fruits.remove(\"apple\")\n",
    "print(fruits)\n",
    "fruits.pop()"
   ]
  },
  {
   "cell_type": "code",
   "execution_count": null,
   "id": "9fa80009",
   "metadata": {},
   "outputs": [
    {
     "name": "stdout",
     "output_type": "stream",
     "text": [
      "{'neha', 'priya'}\n"
     ]
    }
   ],
   "source": [
    "name ={\"aditi\", \"priya\", \"neha\"}\n",
    "name.remove(\"aditi\")\n",
    "print(name)\n",
    "name.discard(\"aditi\") #discard doesnot throw error\n"
   ]
  },
  {
   "cell_type": "code",
   "execution_count": 34,
   "id": "7a9fb3b8",
   "metadata": {},
   "outputs": [
    {
     "name": "stdout",
     "output_type": "stream",
     "text": [
      "('apple', 'banana', 'banana', 'cocnut', 'cherry')\n",
      "['__add__', '__class__', '__class_getitem__', '__contains__', '__delattr__', '__dir__', '__doc__', '__eq__', '__format__', '__ge__', '__getattribute__', '__getitem__', '__getnewargs__', '__getstate__', '__gt__', '__hash__', '__init__', '__init_subclass__', '__iter__', '__le__', '__len__', '__lt__', '__mul__', '__ne__', '__new__', '__reduce__', '__reduce_ex__', '__repr__', '__rmul__', '__setattr__', '__sizeof__', '__str__', '__subclasshook__', 'count', 'index']\n",
      "cocnut\n",
      "2\n"
     ]
    }
   ],
   "source": [
    "#Tuples() oredered and unchangeable duplicates ok, faster\n",
    "\n",
    "fruits = (\"apple\", \"banana\", \"banana\", \"cocnut\", \"cherry\")\n",
    "print(fruits)\n",
    "print(dir(fruits))\n",
    "print(fruits[3])\n",
    "print(fruits.count(\"banana\"))"
   ]
  },
  {
   "cell_type": "code",
   "execution_count": 41,
   "id": "05c09b21",
   "metadata": {},
   "outputs": [
    {
     "name": "stdout",
     "output_type": "stream",
     "text": [
      "('Apple', 'Banana', 'Coconut', 'Cherry', 'orange')\n"
     ]
    }
   ],
   "source": [
    "newTuple = ('Apple', 'Banana', 'Coconut', \"Cherry\")\n",
    "y = (\"orange\",)\n",
    "type(y)\n",
    "newTuple+=y\n",
    "print(newTuple)"
   ]
  },
  {
   "cell_type": "code",
   "execution_count": 60,
   "id": "85b2806e",
   "metadata": {},
   "outputs": [
    {
     "name": "stdout",
     "output_type": "stream",
     "text": [
      "apple\n",
      "['banana', 'cherry']\n",
      "kiwi\n"
     ]
    }
   ],
   "source": [
    "# tuples unpacking\n",
    "fruits=('apple', 'banana', 'cherry','kiwi')\n",
    "(green,*yellow,red)=fruits\n",
    "print(green)\n",
    "(green, *yellow,red) = fruits\n",
    "print(yellow)\n",
    "print(red)"
   ]
  },
  {
   "cell_type": "code",
   "execution_count": 62,
   "id": "a7ae0aa7",
   "metadata": {},
   "outputs": [],
   "source": [
    "# NESTED TUPLES\n",
    "t=(1,3,(3,4),[\"a\", \"b\"])\n"
   ]
  },
  {
   "cell_type": "code",
   "execution_count": 68,
   "id": "02d3b36f",
   "metadata": {},
   "outputs": [
    {
     "name": "stdout",
     "output_type": "stream",
     "text": [
      "<class 'str'>\n"
     ]
    },
    {
     "data": {
      "text/plain": [
       "['a', 'p', 'p', 'l', 'e']"
      ]
     },
     "execution_count": 68,
     "metadata": {},
     "output_type": "execute_result"
    }
   ],
   "source": [
    "del list\n",
    "fruits = (\"apple\")\n",
    "print(type(fruits))\n",
    "list(fruits)"
   ]
  },
  {
   "cell_type": "code",
   "execution_count": 69,
   "id": "ab139445",
   "metadata": {},
   "outputs": [
    {
     "name": "stdout",
     "output_type": "stream",
     "text": [
      "[1, 'hello', 3.14, True] (1, 'hello', 3.14, True) {1, 3.14, 'hello'}\n"
     ]
    }
   ],
   "source": [
    "list = [1, \"hello\", 3.14, True]\n",
    "tuple = (1, \"hello\", 3.14, True)\n",
    "set = {1, \"hello\", 3.14, True}\n",
    "print(list, tuple, set)"
   ]
  },
  {
   "cell_type": "code",
   "execution_count": 70,
   "id": "f1e46b3e",
   "metadata": {},
   "outputs": [
    {
     "name": "stdout",
     "output_type": "stream",
     "text": [
      "There is apple\n"
     ]
    }
   ],
   "source": [
    "list1 = [\"banana\", \"orange\", \"apple\"]\n",
    "if \"apple\" in fruits:\n",
    "    print(\"There is apple\")\n",
    "else:\n",
    "    print(\"there is no apple\")"
   ]
  },
  {
   "cell_type": "code",
   "execution_count": 74,
   "id": "881bb921",
   "metadata": {},
   "outputs": [
    {
     "name": "stdout",
     "output_type": "stream",
     "text": [
      "banana\n",
      "orange\n",
      "apple\n"
     ]
    }
   ],
   "source": [
    "\n",
    "i = 0;\n",
    "while i<len(list1):\n",
    "    print(list1[i])\n",
    "    i=i+1"
   ]
  },
  {
   "cell_type": "code",
   "execution_count": 75,
   "id": "3b8cc609",
   "metadata": {},
   "outputs": [
    {
     "name": "stdout",
     "output_type": "stream",
     "text": [
      "appleapple\n"
     ]
    }
   ],
   "source": [
    "print(fruits*2)"
   ]
  },
  {
   "cell_type": "code",
   "execution_count": 90,
   "id": "fbe7ac93",
   "metadata": {},
   "outputs": [
    {
     "name": "stdout",
     "output_type": "stream",
     "text": [
      "20\n",
      "['__class__', '__class_getitem__', '__contains__', '__delattr__', '__delitem__', '__dir__', '__doc__', '__eq__', '__format__', '__ge__', '__getattribute__', '__getitem__', '__getstate__', '__gt__', '__hash__', '__init__', '__init_subclass__', '__ior__', '__iter__', '__le__', '__len__', '__lt__', '__ne__', '__new__', '__or__', '__reduce__', '__reduce_ex__', '__repr__', '__reversed__', '__ror__', '__setattr__', '__setitem__', '__sizeof__', '__str__', '__subclasshook__', 'clear', 'copy', 'fromkeys', 'get', 'items', 'keys', 'pop', 'popitem', 'setdefault', 'update', 'values']\n",
      "{'name': 'priya', 'age': 20, 'city': 'bhairahawa'}\n",
      "{'name': 'priya', 'age': 20, 'city': 'bhairahawa', 'gender': 'female'}\n",
      "{'name': 'priya', 'age': 20, 'city': 'bhairahawa'}\n",
      "true\n",
      "name\n",
      "age\n",
      "city\n",
      "priya\n",
      "20\n",
      "bhairahawa\n",
      "name priya\n",
      "age 20\n",
      "city bhairahawa\n"
     ]
    }
   ],
   "source": [
    "#dictionary in python = collection of key-value pairs unorderd, mutuable and indexed data structure\n",
    "\n",
    "student={\n",
    "    1:\"first\",\n",
    "    \"name\":\"Priya\",\n",
    "    \"age\":20,\n",
    "    \"course\":[\"Math\",\"Science\"]\n",
    "}\n",
    "print(student[\"age\"])\n",
    "print(dir(student))\n",
    "# print(help(student))\n",
    "student = dict(name=\"priya\", age=20, city=\"bhairahawa\")\n",
    "print(student)\n",
    "student[\"gender\"]=\"female\" #adding the key and values in the dictionary\n",
    "print(student)\n",
    "del student [\"gender\"] #deleting the key and values from the dictionary\n",
    "print(student)\n",
    "#checking\n",
    "if \"priya\" in student.values():\n",
    "    print(\"true\")\n",
    "else:\n",
    "    print(\"false\")\n",
    "\n",
    "for key in student:\n",
    "    print(key)\n",
    "\n",
    "for value in student.values():\n",
    "    print(value)\n",
    "\n",
    "for key, value in student.items():\n",
    "    print(key, value)\n",
    "\n"
   ]
  },
  {
   "cell_type": "code",
   "execution_count": 91,
   "id": "8d5d8d27",
   "metadata": {},
   "outputs": [
    {
     "name": "stdout",
     "output_type": "stream",
     "text": [
      "{0: 0, 1: 1, 2: 4, 3: 9, 4: 16}\n"
     ]
    }
   ],
   "source": [
    "#dictionary comprehension\n",
    "\n",
    "squares={x:x*x for x in range(5)}\n",
    "print(squares)"
   ]
  }
 ],
 "metadata": {
  "kernelspec": {
   "display_name": "Python 3",
   "language": "python",
   "name": "python3"
  },
  "language_info": {
   "codemirror_mode": {
    "name": "ipython",
    "version": 3
   },
   "file_extension": ".py",
   "mimetype": "text/x-python",
   "name": "python",
   "nbconvert_exporter": "python",
   "pygments_lexer": "ipython3",
   "version": "3.12.8"
  }
 },
 "nbformat": 4,
 "nbformat_minor": 5
}
